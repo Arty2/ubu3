{
 "cells": [
  {
   "cell_type": "markdown",
   "metadata": {},
   "source": [
    "# Publishing the Unpublishable Scrape"
   ]
  },
  {
   "cell_type": "code",
   "execution_count": null,
   "metadata": {},
   "outputs": [],
   "source": [
    "from bs4 import BeautifulSoup\n",
    "from urllib.request import urlopen\n",
    "\n",
    "url = 'http://www.ubu.com/ubu/unpub.html'\n",
    "\n",
    "page_html = urlopen(url).read().decode('utf8')\n",
    "\n",
    "soup = BeautifulSoup(page_html, 'lxml')"
   ]
  },
  {
   "cell_type": "code",
   "execution_count": null,
   "metadata": {},
   "outputs": [],
   "source": [
    "all_links = soup.find_all('a')\n",
    "\n",
    "all_links"
   ]
  },
  {
   "cell_type": "code",
   "execution_count": null,
   "metadata": {},
   "outputs": [],
   "source": [
    "all_urls = [item['href'] for item in all_links]\n",
    "\n",
    "all_urls"
   ]
  },
  {
   "cell_type": "code",
   "execution_count": null,
   "metadata": {},
   "outputs": [],
   "source": [
    "## Converting relative links to absolute links\n",
    "\n",
    "cleaned_urls = []\n",
    "\n",
    "for url in all_urls:\n",
    "    if './' in url:\n",
    "        url = url.replace('./', 'http://ubu.com/ubu/')\n",
    "    cleaned_urls.append(url)\n",
    "        \n",
    "cleaned_urls"
   ]
  },
  {
   "cell_type": "code",
   "execution_count": null,
   "metadata": {},
   "outputs": [],
   "source": [
    "## Filtering out links to things other than PDFs\n",
    "\n",
    "pdf_urls = [item for item in cleaned_urls if '.pdf' in item.lower()]\n",
    "\n",
    "pdf_urls"
   ]
  },
  {
   "cell_type": "code",
   "execution_count": null,
   "metadata": {},
   "outputs": [],
   "source": [
    "## **Downloading our list of PDFs**\n",
    "# (This might take a minute or two.)\n",
    "\n",
    "import os\n",
    "import subprocess\n",
    "import time\n",
    "\n",
    "try: os.mkdir('/sharedfolder/ubu_unpub/')\n",
    "except: pass\n",
    "\n",
    "os.chdir('/sharedfolder/ubu_unpub/')\n",
    "\n",
    "for url in pdf_urls:\n",
    "    subprocess.call(['wget', url])\n",
    "    time.sleep(0.5)"
   ]
  },
  {
   "cell_type": "code",
   "execution_count": null,
   "metadata": {},
   "outputs": [],
   "source": [
    "len(pdf_urls)"
   ]
  },
  {
   "cell_type": "code",
   "execution_count": null,
   "metadata": {},
   "outputs": [],
   "source": [
    "## Using the image that appears before each line on the page to split \n",
    "# the source code into chunks corresponding to each publication\n",
    "\n",
    "link_lines = page_html.split('<img src=\"images/arrow_orange.gif\" border=\"0\" align=\"middle\">')[1:]\n",
    "\n",
    "len(link_lines) ## Checking the length of our list; it should be the same as the number of PDFs."
   ]
  },
  {
   "cell_type": "code",
   "execution_count": null,
   "metadata": {},
   "outputs": [],
   "source": [
    "## Choosing a line from the page at random\n",
    "\n",
    "import random\n",
    "\n",
    "line = random.choice(link_lines)\n",
    "\n",
    "line"
   ]
  },
  {
   "cell_type": "code",
   "execution_count": null,
   "metadata": {},
   "outputs": [],
   "source": [
    "## Figuring out how to extract the author field\n",
    "\n",
    "creator = line.split('</font>')[1].split('<a href')[0].strip().split('<br')[0]\n",
    "\n",
    "creator"
   ]
  },
  {
   "cell_type": "code",
   "execution_count": null,
   "metadata": {},
   "outputs": [],
   "source": [
    "## Figuring out how to extract the title field\n",
    "\n",
    "item_soup = BeautifulSoup(line, 'lxml')\n",
    "\n",
    "title = item_soup.find('a').get_text()\n",
    "\n",
    "title"
   ]
  },
  {
   "cell_type": "code",
   "execution_count": null,
   "metadata": {},
   "outputs": [],
   "source": [
    "## Figuring out how to extract the PDF filename\n",
    "\n",
    "filename = item_soup.find('a')['href'].split('/')[-1]\n",
    "\n",
    "filename"
   ]
  },
  {
   "cell_type": "code",
   "execution_count": null,
   "metadata": {},
   "outputs": [],
   "source": [
    "## Putting it all together to generate a metadata table\n",
    "# We're creating a table in the form of a list of lists, each row represented by a lists of fields\n",
    "\n",
    "metadata_lol = []\n",
    "\n",
    "for line in link_lines:\n",
    "    try:\n",
    "        creator = line.split('</font>')[1].split('<a href')[0].strip().split('<br')[0]\n",
    "        item_soup = BeautifulSoup(line, 'lxml')\n",
    "        link = item_soup.find('a')\n",
    "        title = link.get_text()\n",
    "        filename = link['href'].split('/')[-1]\n",
    "        row = [creator, title, filename]\n",
    "        metadata_lol.append(row)\n",
    "    except:\n",
    "        print(line)\n",
    "\n",
    "# We should get one error along the way, at which point we'll print the offending line.\n",
    "# In this case we can disregard it."
   ]
  },
  {
   "cell_type": "code",
   "execution_count": null,
   "metadata": {},
   "outputs": [],
   "source": [
    "## Checking the number of rows in our table\n",
    "\n",
    "len(metadata_lol)\n",
    "\n",
    "# Q: Why did we find 59 PDFs but only 58 metadata records?"
   ]
  },
  {
   "cell_type": "code",
   "execution_count": null,
   "metadata": {},
   "outputs": [],
   "source": [
    "## Writing our metadta table to a CSV file\n",
    "\n",
    "import csv\n",
    "\n",
    "header = [\"Creator\", \"Title\", \"Filename\"]\n",
    "\n",
    "with open('ubu_unpub_metadata.csv', 'w') as file_out:\n",
    "    csv_writer = csv.writer(file_out)\n",
    "    csv_writer.writerow(header)\n",
    "    csv_writer.writerows(metadata_lol)\n",
    "\n",
    "# Open your newly created CSV in LibreOffice Calc or another spreadsheet \n",
    "# program and check whether you need to make any corrections."
   ]
  },
  {
   "cell_type": "code",
   "execution_count": null,
   "metadata": {},
   "outputs": [],
   "source": []
  }
 ],
 "metadata": {
  "kernelspec": {
   "display_name": "Python 3",
   "language": "python",
   "name": "python3"
  },
  "language_info": {
   "codemirror_mode": {
    "name": "ipython",
    "version": 3
   },
   "file_extension": ".py",
   "mimetype": "text/x-python",
   "name": "python",
   "nbconvert_exporter": "python",
   "pygments_lexer": "ipython3",
   "version": "3.5.2"
  }
 },
 "nbformat": 4,
 "nbformat_minor": 2
}
