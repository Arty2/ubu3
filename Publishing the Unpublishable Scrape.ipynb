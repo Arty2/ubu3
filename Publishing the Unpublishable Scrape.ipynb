{
 "cells": [
  {
   "cell_type": "markdown",
   "metadata": {},
   "source": [
    "# Publishing the Unpublishable Scrape"
   ]
  },
  {
   "cell_type": "code",
   "execution_count": 1,
   "metadata": {},
   "outputs": [],
   "source": [
    "from bs4 import BeautifulSoup\n",
    "from urllib.request import urlopen\n",
    "\n",
    "url = 'http://www.ubu.com/ubu/unpub.html'\n",
    "\n",
    "page_html = urlopen(url).read().decode('utf8')\n",
    "\n",
    "soup = BeautifulSoup(page_html, 'lxml')"
   ]
  },
  {
   "cell_type": "code",
   "execution_count": 2,
   "metadata": {},
   "outputs": [
    {
     "data": {
      "text/plain": [
       "[<a href=\"http://www.ubu.com\">UbuWeb</a>,\n",
       " <a href=\"./index.html\"><font color=\"F00\">/ubu Editions</font></a>,\n",
       " <a href=\"http://www.ubu.com\"><font color=\"F00\">UbuWeb</font></a>,\n",
       " <a href=\"./unpub/Unpub_001_Andrews_Whdip.pdf\">WhDiP, a sequence from <i>White Dialect Poetry</i></a>,\n",
       " <a href=\"./unpub/Unpub_002_Andrews_Libretto.pdf\">Libretto from <i>White Dialect Poetry</i></a>,\n",
       " <a href=\"./unpub/Unpub_003_Fitterman_Hi.pdf\">Hi My Name Is: A Libretto</a>,\n",
       " <a href=\"./unpub/Unpub_004_Nufer_Rumor.pdf\">Rumor</a>,\n",
       " <a href=\"./unpub/Unpub_005_Closky_Couche.pdf\">Couché sur le ventre</a>,\n",
       " <a href=\"./unpub/Unpub_006_Dirle_Onan.pdf\">Onan The Illiterate</a>,\n",
       " <a href=\"./unpub/Unpub_007_Rosenfield_Unsurpassed.pdf\">The Unsurpassed Joy</a>,\n",
       " <a href=\"./unpub/Unpub_008_Morris_Intolerable.pdf\">An Intolerable Piece of Writing:  Pedagogy as Performed Absence </a>,\n",
       " <a href=\"./unpub/Unpub_009_Dworkin_Maps.pdf\">Maps</a>,\n",
       " <a href=\"./unpub/Unpub_010_Manson_Mallarme.pdf\">English in Mallarmé</a>,\n",
       " <a href=\"./unpub/Unpub_011_Dunn_American.pdf\">American Dust</a>,\n",
       " <a href=\"./unpub/Unpub_012_Kuchar_Frankenstein.pdf\">The Kiss of Frankenstein</a>,\n",
       " <a href=\"./unpub/Unpub_013_TDavis_SweetLoRes.pdf\">Low Resolution - 7pp (PDF, 4mb)</a>,\n",
       " <a href=\"./unpub/Unpub_013_TDavis_Sweet.pdf\">High Resolution - 7pp (PDF, 12.4mb)</a>,\n",
       " <a href=\"./unpub/Unpub_014_Stefans_Booty.pdf\">Booty, Egg On</a>,\n",
       " <a href=\"./unpub/Unpub_015_BJDavis_VoiceOver.pdf\">Voice Over</a>,\n",
       " <a href=\"./unpub/Unpub_016_Bang_ByM.pdf\">By M</a>,\n",
       " <a href=\"./unpub/Unpub_017_Jullich_Selected-Criticism.pdf\">Selected Criticism, Jeffrey Jullich</a>,\n",
       " <a href=\"./unpub/Unpub_018_Lin_BIB.pdf\">BIB.</a>,\n",
       " <a href=\"./unpub/Unpub_019_DeLaTorre_Overkill.pdf\">Overkill: First Poems in English  (1993-1995)</a>,\n",
       " <a href=\"./unpub/Unpub_020_Sigler_Math.pdf\">Math</a>,\n",
       " <a href=\"./unpub/Unpub_021_CotnerFitch_Conversations.pdf\">from Conversations Over Stolen Food</a>,\n",
       " <a href=\"./unpub/Unpub_022_Bok_Xenotext.pdf\">The Xenotext Experiment</a>,\n",
       " <a href=\"./unpub/Unpub_023_Johnson.pdf\">The Voice of New Music (1972-1982)</a>,\n",
       " <a href=\"./unpub/Unpub_024_Shirinyan_Speech-Genres.pdf\">Speech Genres 1-2</a>,\n",
       " <a href=\"./unpub/Unpub_025_Ratcliffe_Cloud.pdf\">Cloud / Ridge</a>,\n",
       " <a href=\"./unpub/Unpub_026_Ratcliffe_Human.pdf\">Human / Nature</a>,\n",
       " <a href=\"./unpub/Unpub_027_Nordhal.pdf\">Hemd stafakarlanna, 1.hluti</a>,\n",
       " <a href=\"./unpub/Unpub_028_Bernstein.pdf\">Three Works</a>,\n",
       " <a href=\"./unpub/Unpub_029_Coffey.pdf\">Magnus Cooney</a>,\n",
       " <a href=\"./unpub/Unpub_030_Rubinstein.pdf\">Through a Blue Field</a>,\n",
       " <a href=\"./unpub/Unpub_031_Goldsmith.pdf\">All The Numbers From Numbers</a>,\n",
       " <a href=\"./unpub/Unpub_032_Licht.pdf\">Spring Without Alan Licht / Dime Double Minutemen Nickels On The / Lou Reed Minus Lou Reed / (Give Them Enough Nope)</a>,\n",
       " <a href=\"./unpub/Unpub_033_Clark.pdf\">Between Words</a>,\n",
       " <a href=\"./unpub/Unpub_034_Beaulieu.pdf\">How To Write / How To Edit</a>,\n",
       " <a href=\"./unpub/Unpub_035_Brown.pdf\">A Play on Words</a>,\n",
       " <a href=\"./unpub/Unpub_036_Schwabsky.pdf\">Two Poems Circa 1992</a>,\n",
       " <a href=\"./unpub/Unpub_037_Byrne.pdf\">Example As Figure</a>,\n",
       " <a href=\"./unpub/Unpub_038_Peters.pdf\">Men</a>,\n",
       " <a href=\"./unpub/Unpub_039_Tegeder.pdf\">Falling Apart NYC</a>,\n",
       " <a href=\"./unpub/Unpub_040_Issue1.pdf\">Issue 1</a>,\n",
       " <a href=\"./unpub/Unpub_041_Katz.pdf\">Shopping For Oliver's Chili</a>,\n",
       " <a href=\"./unpub/Unpub_042_Place.pdf\">Statement of Facts</a>,\n",
       " <a href=\"http://ubu.artmob.ca/text/Unpub_043_Lomax.pdf\">Disclosure</a>,\n",
       " <a href=\"./unpub/Unpub_044_Obrist-Tiravanija.pdf\">Hurricane </a>,\n",
       " <a href=\"./unpub/Unpub_045_Belgum.pdf\">THE_CITY Battery: a Neurological Evaluation of THE_CITY </a>,\n",
       " <a href=\"./unpub/Unpub_046_Trecartin.pdf\">K-CoreaINC.K (Section A)</a>,\n",
       " <a href=\"./unpub/Unpub_047_Gray-Paulsen.pdf\">One-Way Street: An Index</a>,\n",
       " <a href=\"./unpub/Unpub_048_Bjoljahn-Moller.pdf\">Flytning</a>,\n",
       " <a href=\"http://ubu.com/contemp/leibovici/Leibovici-Franck_9+11.pdf\">\"9+11\"</a>,\n",
       " <a href=\"./unpub/Unpub_050_Schmitt.pdf\">ingredients</a>,\n",
       " <a href=\"./unpub/Unpub_051_Serup.pdf\">The Field</a>,\n",
       " <a href=\"./unpub/Unpub_052_Rowles.pdf\">The History</a>,\n",
       " <a href=\"./unpub/Unpub_053_Peake.pdf\">Amalgam: Collection of poems and writings 2000 - 2010</a>,\n",
       " <a href=\"./unpub/Unpub_054_Smith.pdf\">Opulent Stone Moccasins</a>,\n",
       " <a href=\"./unpub/Unpub_056_Giasson.pdf\">II</a>,\n",
       " <a href=\"./unpub/Unpub_057_Nufer.pdf\">The Dammed</a>,\n",
       " <a href=\"./unpub/Unpub_058_Melamed.pdf\">Regurgitofagia</a>,\n",
       " <a href=\"./unpub/Unpub_059_Molina.pdf\">Nail Hearts Clip Epistolary Fantasy Blog from 2009-2010</a>,\n",
       " <a href=\"http://www.ubu.com\">UbuWeb</a>]"
      ]
     },
     "execution_count": 2,
     "metadata": {},
     "output_type": "execute_result"
    }
   ],
   "source": [
    "all_links = soup.find_all('a')\n",
    "\n",
    "all_links"
   ]
  },
  {
   "cell_type": "code",
   "execution_count": 3,
   "metadata": {},
   "outputs": [
    {
     "data": {
      "text/plain": [
       "['http://www.ubu.com',\n",
       " './index.html',\n",
       " 'http://www.ubu.com',\n",
       " './unpub/Unpub_001_Andrews_Whdip.pdf',\n",
       " './unpub/Unpub_002_Andrews_Libretto.pdf',\n",
       " './unpub/Unpub_003_Fitterman_Hi.pdf',\n",
       " './unpub/Unpub_004_Nufer_Rumor.pdf',\n",
       " './unpub/Unpub_005_Closky_Couche.pdf',\n",
       " './unpub/Unpub_006_Dirle_Onan.pdf',\n",
       " './unpub/Unpub_007_Rosenfield_Unsurpassed.pdf',\n",
       " './unpub/Unpub_008_Morris_Intolerable.pdf',\n",
       " './unpub/Unpub_009_Dworkin_Maps.pdf',\n",
       " './unpub/Unpub_010_Manson_Mallarme.pdf',\n",
       " './unpub/Unpub_011_Dunn_American.pdf',\n",
       " './unpub/Unpub_012_Kuchar_Frankenstein.pdf',\n",
       " './unpub/Unpub_013_TDavis_SweetLoRes.pdf',\n",
       " './unpub/Unpub_013_TDavis_Sweet.pdf',\n",
       " './unpub/Unpub_014_Stefans_Booty.pdf',\n",
       " './unpub/Unpub_015_BJDavis_VoiceOver.pdf',\n",
       " './unpub/Unpub_016_Bang_ByM.pdf',\n",
       " './unpub/Unpub_017_Jullich_Selected-Criticism.pdf',\n",
       " './unpub/Unpub_018_Lin_BIB.pdf',\n",
       " './unpub/Unpub_019_DeLaTorre_Overkill.pdf',\n",
       " './unpub/Unpub_020_Sigler_Math.pdf',\n",
       " './unpub/Unpub_021_CotnerFitch_Conversations.pdf',\n",
       " './unpub/Unpub_022_Bok_Xenotext.pdf',\n",
       " './unpub/Unpub_023_Johnson.pdf',\n",
       " './unpub/Unpub_024_Shirinyan_Speech-Genres.pdf',\n",
       " './unpub/Unpub_025_Ratcliffe_Cloud.pdf',\n",
       " './unpub/Unpub_026_Ratcliffe_Human.pdf',\n",
       " './unpub/Unpub_027_Nordhal.pdf',\n",
       " './unpub/Unpub_028_Bernstein.pdf',\n",
       " './unpub/Unpub_029_Coffey.pdf',\n",
       " './unpub/Unpub_030_Rubinstein.pdf',\n",
       " './unpub/Unpub_031_Goldsmith.pdf',\n",
       " './unpub/Unpub_032_Licht.pdf',\n",
       " './unpub/Unpub_033_Clark.pdf',\n",
       " './unpub/Unpub_034_Beaulieu.pdf',\n",
       " './unpub/Unpub_035_Brown.pdf',\n",
       " './unpub/Unpub_036_Schwabsky.pdf',\n",
       " './unpub/Unpub_037_Byrne.pdf',\n",
       " './unpub/Unpub_038_Peters.pdf',\n",
       " './unpub/Unpub_039_Tegeder.pdf',\n",
       " './unpub/Unpub_040_Issue1.pdf',\n",
       " './unpub/Unpub_041_Katz.pdf',\n",
       " './unpub/Unpub_042_Place.pdf',\n",
       " 'http://ubu.artmob.ca/text/Unpub_043_Lomax.pdf',\n",
       " './unpub/Unpub_044_Obrist-Tiravanija.pdf',\n",
       " './unpub/Unpub_045_Belgum.pdf',\n",
       " './unpub/Unpub_046_Trecartin.pdf',\n",
       " './unpub/Unpub_047_Gray-Paulsen.pdf',\n",
       " './unpub/Unpub_048_Bjoljahn-Moller.pdf',\n",
       " 'http://ubu.com/contemp/leibovici/Leibovici-Franck_9+11.pdf',\n",
       " './unpub/Unpub_050_Schmitt.pdf',\n",
       " './unpub/Unpub_051_Serup.pdf',\n",
       " './unpub/Unpub_052_Rowles.pdf',\n",
       " './unpub/Unpub_053_Peake.pdf',\n",
       " './unpub/Unpub_054_Smith.pdf',\n",
       " './unpub/Unpub_056_Giasson.pdf',\n",
       " './unpub/Unpub_057_Nufer.pdf',\n",
       " './unpub/Unpub_058_Melamed.pdf',\n",
       " './unpub/Unpub_059_Molina.pdf',\n",
       " 'http://www.ubu.com']"
      ]
     },
     "execution_count": 3,
     "metadata": {},
     "output_type": "execute_result"
    }
   ],
   "source": [
    "all_urls = [item['href'] for item in all_links]\n",
    "\n",
    "all_urls"
   ]
  },
  {
   "cell_type": "code",
   "execution_count": 4,
   "metadata": {},
   "outputs": [
    {
     "data": {
      "text/plain": [
       "['http://www.ubu.com',\n",
       " 'http://ubu.com/ubu/index.html',\n",
       " 'http://www.ubu.com',\n",
       " 'http://ubu.com/ubu/unpub/Unpub_001_Andrews_Whdip.pdf',\n",
       " 'http://ubu.com/ubu/unpub/Unpub_002_Andrews_Libretto.pdf',\n",
       " 'http://ubu.com/ubu/unpub/Unpub_003_Fitterman_Hi.pdf',\n",
       " 'http://ubu.com/ubu/unpub/Unpub_004_Nufer_Rumor.pdf',\n",
       " 'http://ubu.com/ubu/unpub/Unpub_005_Closky_Couche.pdf',\n",
       " 'http://ubu.com/ubu/unpub/Unpub_006_Dirle_Onan.pdf',\n",
       " 'http://ubu.com/ubu/unpub/Unpub_007_Rosenfield_Unsurpassed.pdf',\n",
       " 'http://ubu.com/ubu/unpub/Unpub_008_Morris_Intolerable.pdf',\n",
       " 'http://ubu.com/ubu/unpub/Unpub_009_Dworkin_Maps.pdf',\n",
       " 'http://ubu.com/ubu/unpub/Unpub_010_Manson_Mallarme.pdf',\n",
       " 'http://ubu.com/ubu/unpub/Unpub_011_Dunn_American.pdf',\n",
       " 'http://ubu.com/ubu/unpub/Unpub_012_Kuchar_Frankenstein.pdf',\n",
       " 'http://ubu.com/ubu/unpub/Unpub_013_TDavis_SweetLoRes.pdf',\n",
       " 'http://ubu.com/ubu/unpub/Unpub_013_TDavis_Sweet.pdf',\n",
       " 'http://ubu.com/ubu/unpub/Unpub_014_Stefans_Booty.pdf',\n",
       " 'http://ubu.com/ubu/unpub/Unpub_015_BJDavis_VoiceOver.pdf',\n",
       " 'http://ubu.com/ubu/unpub/Unpub_016_Bang_ByM.pdf',\n",
       " 'http://ubu.com/ubu/unpub/Unpub_017_Jullich_Selected-Criticism.pdf',\n",
       " 'http://ubu.com/ubu/unpub/Unpub_018_Lin_BIB.pdf',\n",
       " 'http://ubu.com/ubu/unpub/Unpub_019_DeLaTorre_Overkill.pdf',\n",
       " 'http://ubu.com/ubu/unpub/Unpub_020_Sigler_Math.pdf',\n",
       " 'http://ubu.com/ubu/unpub/Unpub_021_CotnerFitch_Conversations.pdf',\n",
       " 'http://ubu.com/ubu/unpub/Unpub_022_Bok_Xenotext.pdf',\n",
       " 'http://ubu.com/ubu/unpub/Unpub_023_Johnson.pdf',\n",
       " 'http://ubu.com/ubu/unpub/Unpub_024_Shirinyan_Speech-Genres.pdf',\n",
       " 'http://ubu.com/ubu/unpub/Unpub_025_Ratcliffe_Cloud.pdf',\n",
       " 'http://ubu.com/ubu/unpub/Unpub_026_Ratcliffe_Human.pdf',\n",
       " 'http://ubu.com/ubu/unpub/Unpub_027_Nordhal.pdf',\n",
       " 'http://ubu.com/ubu/unpub/Unpub_028_Bernstein.pdf',\n",
       " 'http://ubu.com/ubu/unpub/Unpub_029_Coffey.pdf',\n",
       " 'http://ubu.com/ubu/unpub/Unpub_030_Rubinstein.pdf',\n",
       " 'http://ubu.com/ubu/unpub/Unpub_031_Goldsmith.pdf',\n",
       " 'http://ubu.com/ubu/unpub/Unpub_032_Licht.pdf',\n",
       " 'http://ubu.com/ubu/unpub/Unpub_033_Clark.pdf',\n",
       " 'http://ubu.com/ubu/unpub/Unpub_034_Beaulieu.pdf',\n",
       " 'http://ubu.com/ubu/unpub/Unpub_035_Brown.pdf',\n",
       " 'http://ubu.com/ubu/unpub/Unpub_036_Schwabsky.pdf',\n",
       " 'http://ubu.com/ubu/unpub/Unpub_037_Byrne.pdf',\n",
       " 'http://ubu.com/ubu/unpub/Unpub_038_Peters.pdf',\n",
       " 'http://ubu.com/ubu/unpub/Unpub_039_Tegeder.pdf',\n",
       " 'http://ubu.com/ubu/unpub/Unpub_040_Issue1.pdf',\n",
       " 'http://ubu.com/ubu/unpub/Unpub_041_Katz.pdf',\n",
       " 'http://ubu.com/ubu/unpub/Unpub_042_Place.pdf',\n",
       " 'http://ubu.artmob.ca/text/Unpub_043_Lomax.pdf',\n",
       " 'http://ubu.com/ubu/unpub/Unpub_044_Obrist-Tiravanija.pdf',\n",
       " 'http://ubu.com/ubu/unpub/Unpub_045_Belgum.pdf',\n",
       " 'http://ubu.com/ubu/unpub/Unpub_046_Trecartin.pdf',\n",
       " 'http://ubu.com/ubu/unpub/Unpub_047_Gray-Paulsen.pdf',\n",
       " 'http://ubu.com/ubu/unpub/Unpub_048_Bjoljahn-Moller.pdf',\n",
       " 'http://ubu.com/contemp/leibovici/Leibovici-Franck_9+11.pdf',\n",
       " 'http://ubu.com/ubu/unpub/Unpub_050_Schmitt.pdf',\n",
       " 'http://ubu.com/ubu/unpub/Unpub_051_Serup.pdf',\n",
       " 'http://ubu.com/ubu/unpub/Unpub_052_Rowles.pdf',\n",
       " 'http://ubu.com/ubu/unpub/Unpub_053_Peake.pdf',\n",
       " 'http://ubu.com/ubu/unpub/Unpub_054_Smith.pdf',\n",
       " 'http://ubu.com/ubu/unpub/Unpub_056_Giasson.pdf',\n",
       " 'http://ubu.com/ubu/unpub/Unpub_057_Nufer.pdf',\n",
       " 'http://ubu.com/ubu/unpub/Unpub_058_Melamed.pdf',\n",
       " 'http://ubu.com/ubu/unpub/Unpub_059_Molina.pdf',\n",
       " 'http://www.ubu.com']"
      ]
     },
     "execution_count": 4,
     "metadata": {},
     "output_type": "execute_result"
    }
   ],
   "source": [
    "## Converting relative links to absolute links\n",
    "\n",
    "cleaned_urls = []\n",
    "\n",
    "for url in all_urls:\n",
    "    if './' in url:\n",
    "        url = url.replace('./', 'http://ubu.com/ubu/')\n",
    "    cleaned_urls.append(url)\n",
    "        \n",
    "cleaned_urls"
   ]
  },
  {
   "cell_type": "code",
   "execution_count": 5,
   "metadata": {},
   "outputs": [
    {
     "data": {
      "text/plain": [
       "['http://ubu.com/ubu/unpub/Unpub_001_Andrews_Whdip.pdf',\n",
       " 'http://ubu.com/ubu/unpub/Unpub_002_Andrews_Libretto.pdf',\n",
       " 'http://ubu.com/ubu/unpub/Unpub_003_Fitterman_Hi.pdf',\n",
       " 'http://ubu.com/ubu/unpub/Unpub_004_Nufer_Rumor.pdf',\n",
       " 'http://ubu.com/ubu/unpub/Unpub_005_Closky_Couche.pdf',\n",
       " 'http://ubu.com/ubu/unpub/Unpub_006_Dirle_Onan.pdf',\n",
       " 'http://ubu.com/ubu/unpub/Unpub_007_Rosenfield_Unsurpassed.pdf',\n",
       " 'http://ubu.com/ubu/unpub/Unpub_008_Morris_Intolerable.pdf',\n",
       " 'http://ubu.com/ubu/unpub/Unpub_009_Dworkin_Maps.pdf',\n",
       " 'http://ubu.com/ubu/unpub/Unpub_010_Manson_Mallarme.pdf',\n",
       " 'http://ubu.com/ubu/unpub/Unpub_011_Dunn_American.pdf',\n",
       " 'http://ubu.com/ubu/unpub/Unpub_012_Kuchar_Frankenstein.pdf',\n",
       " 'http://ubu.com/ubu/unpub/Unpub_013_TDavis_SweetLoRes.pdf',\n",
       " 'http://ubu.com/ubu/unpub/Unpub_013_TDavis_Sweet.pdf',\n",
       " 'http://ubu.com/ubu/unpub/Unpub_014_Stefans_Booty.pdf',\n",
       " 'http://ubu.com/ubu/unpub/Unpub_015_BJDavis_VoiceOver.pdf',\n",
       " 'http://ubu.com/ubu/unpub/Unpub_016_Bang_ByM.pdf',\n",
       " 'http://ubu.com/ubu/unpub/Unpub_017_Jullich_Selected-Criticism.pdf',\n",
       " 'http://ubu.com/ubu/unpub/Unpub_018_Lin_BIB.pdf',\n",
       " 'http://ubu.com/ubu/unpub/Unpub_019_DeLaTorre_Overkill.pdf',\n",
       " 'http://ubu.com/ubu/unpub/Unpub_020_Sigler_Math.pdf',\n",
       " 'http://ubu.com/ubu/unpub/Unpub_021_CotnerFitch_Conversations.pdf',\n",
       " 'http://ubu.com/ubu/unpub/Unpub_022_Bok_Xenotext.pdf',\n",
       " 'http://ubu.com/ubu/unpub/Unpub_023_Johnson.pdf',\n",
       " 'http://ubu.com/ubu/unpub/Unpub_024_Shirinyan_Speech-Genres.pdf',\n",
       " 'http://ubu.com/ubu/unpub/Unpub_025_Ratcliffe_Cloud.pdf',\n",
       " 'http://ubu.com/ubu/unpub/Unpub_026_Ratcliffe_Human.pdf',\n",
       " 'http://ubu.com/ubu/unpub/Unpub_027_Nordhal.pdf',\n",
       " 'http://ubu.com/ubu/unpub/Unpub_028_Bernstein.pdf',\n",
       " 'http://ubu.com/ubu/unpub/Unpub_029_Coffey.pdf',\n",
       " 'http://ubu.com/ubu/unpub/Unpub_030_Rubinstein.pdf',\n",
       " 'http://ubu.com/ubu/unpub/Unpub_031_Goldsmith.pdf',\n",
       " 'http://ubu.com/ubu/unpub/Unpub_032_Licht.pdf',\n",
       " 'http://ubu.com/ubu/unpub/Unpub_033_Clark.pdf',\n",
       " 'http://ubu.com/ubu/unpub/Unpub_034_Beaulieu.pdf',\n",
       " 'http://ubu.com/ubu/unpub/Unpub_035_Brown.pdf',\n",
       " 'http://ubu.com/ubu/unpub/Unpub_036_Schwabsky.pdf',\n",
       " 'http://ubu.com/ubu/unpub/Unpub_037_Byrne.pdf',\n",
       " 'http://ubu.com/ubu/unpub/Unpub_038_Peters.pdf',\n",
       " 'http://ubu.com/ubu/unpub/Unpub_039_Tegeder.pdf',\n",
       " 'http://ubu.com/ubu/unpub/Unpub_040_Issue1.pdf',\n",
       " 'http://ubu.com/ubu/unpub/Unpub_041_Katz.pdf',\n",
       " 'http://ubu.com/ubu/unpub/Unpub_042_Place.pdf',\n",
       " 'http://ubu.artmob.ca/text/Unpub_043_Lomax.pdf',\n",
       " 'http://ubu.com/ubu/unpub/Unpub_044_Obrist-Tiravanija.pdf',\n",
       " 'http://ubu.com/ubu/unpub/Unpub_045_Belgum.pdf',\n",
       " 'http://ubu.com/ubu/unpub/Unpub_046_Trecartin.pdf',\n",
       " 'http://ubu.com/ubu/unpub/Unpub_047_Gray-Paulsen.pdf',\n",
       " 'http://ubu.com/ubu/unpub/Unpub_048_Bjoljahn-Moller.pdf',\n",
       " 'http://ubu.com/contemp/leibovici/Leibovici-Franck_9+11.pdf',\n",
       " 'http://ubu.com/ubu/unpub/Unpub_050_Schmitt.pdf',\n",
       " 'http://ubu.com/ubu/unpub/Unpub_051_Serup.pdf',\n",
       " 'http://ubu.com/ubu/unpub/Unpub_052_Rowles.pdf',\n",
       " 'http://ubu.com/ubu/unpub/Unpub_053_Peake.pdf',\n",
       " 'http://ubu.com/ubu/unpub/Unpub_054_Smith.pdf',\n",
       " 'http://ubu.com/ubu/unpub/Unpub_056_Giasson.pdf',\n",
       " 'http://ubu.com/ubu/unpub/Unpub_057_Nufer.pdf',\n",
       " 'http://ubu.com/ubu/unpub/Unpub_058_Melamed.pdf',\n",
       " 'http://ubu.com/ubu/unpub/Unpub_059_Molina.pdf']"
      ]
     },
     "execution_count": 5,
     "metadata": {},
     "output_type": "execute_result"
    }
   ],
   "source": [
    "## Filtering out links to things other than PDFs\n",
    "\n",
    "pdf_urls = [item for item in cleaned_urls if '.pdf' in item.lower()]\n",
    "\n",
    "pdf_urls"
   ]
  },
  {
   "cell_type": "code",
   "execution_count": 6,
   "metadata": {},
   "outputs": [],
   "source": [
    "## **Downloading our list of PDFs**\n",
    "# (This might take a minute or two.)\n",
    "\n",
    "import os\n",
    "import subprocess\n",
    "import time\n",
    "\n",
    "try: os.mkdir('/sharedfolder/ubu_unpub/')\n",
    "except: pass\n",
    "\n",
    "os.chdir('/sharedfolder/ubu_unpub/')\n",
    "\n",
    "for url in pdf_urls:\n",
    "    subprocess.call(['wget', url])\n",
    "    time.sleep(0.5)"
   ]
  },
  {
   "cell_type": "code",
   "execution_count": 7,
   "metadata": {},
   "outputs": [
    {
     "data": {
      "text/plain": [
       "59"
      ]
     },
     "execution_count": 7,
     "metadata": {},
     "output_type": "execute_result"
    }
   ],
   "source": [
    "len(pdf_urls)"
   ]
  },
  {
   "cell_type": "code",
   "execution_count": 8,
   "metadata": {},
   "outputs": [
    {
     "data": {
      "text/plain": [
       "59"
      ]
     },
     "execution_count": 8,
     "metadata": {},
     "output_type": "execute_result"
    }
   ],
   "source": [
    "## Using the image that appears before each line on the page to split \n",
    "# the source code into chunks corresponding to each publication\n",
    "\n",
    "link_lines = page_html.split('<img src=\"images/arrow_orange.gif\" border=\"0\" align=\"middle\">')[1:]\n",
    "\n",
    "len(link_lines) ## Checking the length of our list; it should be the same as the number of PDFs."
   ]
  },
  {
   "cell_type": "code",
   "execution_count": 9,
   "metadata": {},
   "outputs": [
    {
     "data": {
      "text/plain": [
       "' <font color=000><b>058</b></font> Michel Melamed <a href=\"./unpub/Unpub_058_Melamed.pdf\">Regurgitofagia</a> 18pp [PDF, 1mb]\\n\\n\\n<br><br>\\n'"
      ]
     },
     "execution_count": 9,
     "metadata": {},
     "output_type": "execute_result"
    }
   ],
   "source": [
    "## Choosing a line from the page at random\n",
    "\n",
    "import random\n",
    "\n",
    "line = random.choice(link_lines)\n",
    "\n",
    "line"
   ]
  },
  {
   "cell_type": "code",
   "execution_count": 10,
   "metadata": {},
   "outputs": [
    {
     "data": {
      "text/plain": [
       "'Michel Melamed'"
      ]
     },
     "execution_count": 10,
     "metadata": {},
     "output_type": "execute_result"
    }
   ],
   "source": [
    "## Figuring out how to extract the author field\n",
    "\n",
    "author = line.split('</font>')[1].split('<a href')[0].strip().split('<br')[0]\n",
    "\n",
    "author"
   ]
  },
  {
   "cell_type": "code",
   "execution_count": 11,
   "metadata": {},
   "outputs": [
    {
     "data": {
      "text/plain": [
       "'Regurgitofagia'"
      ]
     },
     "execution_count": 11,
     "metadata": {},
     "output_type": "execute_result"
    }
   ],
   "source": [
    "## Figuring out how to extract the title field\n",
    "\n",
    "item_soup = BeautifulSoup(line, 'lxml')\n",
    "\n",
    "title = item_soup.find('a').get_text()\n",
    "\n",
    "title"
   ]
  },
  {
   "cell_type": "code",
   "execution_count": 12,
   "metadata": {},
   "outputs": [
    {
     "data": {
      "text/plain": [
       "'Unpub_058_Melamed.pdf'"
      ]
     },
     "execution_count": 12,
     "metadata": {},
     "output_type": "execute_result"
    }
   ],
   "source": [
    "## Figuring out how to extract the PDF filename\n",
    "\n",
    "filename = item_soup.find('a')['href'].split('/')[-1]\n",
    "\n",
    "filename"
   ]
  },
  {
   "cell_type": "code",
   "execution_count": 13,
   "metadata": {},
   "outputs": [
    {
     "name": "stdout",
     "output_type": "stream",
     "text": [
      " <font color=000><b>055</b></font> <strike> Deleted </strike>\n",
      "\n",
      "<br><br>\n",
      "\n"
     ]
    }
   ],
   "source": [
    "## Putting it all together to generate a metadata table\n",
    "# We're creating a table in the form of a list of lists, each row represented by a lists of fields\n",
    "\n",
    "metadata_lol = []\n",
    "\n",
    "for line in link_lines:\n",
    "    try:\n",
    "        author = line.split('</font>')[1].split('<a href')[0].strip().split('<br')[0]\n",
    "        item_soup = BeautifulSoup(line, 'lxml')\n",
    "        link = item_soup.find('a')\n",
    "        title = link.get_text()\n",
    "        filename = link['href'].split('/')[-1]\n",
    "        row = [author, title, filename]\n",
    "        metadata_lol.append(row)\n",
    "    except:\n",
    "        print(line)\n",
    "\n",
    "# We should get one error along the way, at which point we'll print the offending line.\n",
    "# In this case we can disregard it."
   ]
  },
  {
   "cell_type": "code",
   "execution_count": 14,
   "metadata": {},
   "outputs": [
    {
     "data": {
      "text/plain": [
       "58"
      ]
     },
     "execution_count": 14,
     "metadata": {},
     "output_type": "execute_result"
    }
   ],
   "source": [
    "## Checking the number of rows in our table\n",
    "\n",
    "len(metadata_lol)\n",
    "\n",
    "# Q: Why did we find 59 PDFs but only 58 metadata records?"
   ]
  },
  {
   "cell_type": "code",
   "execution_count": 15,
   "metadata": {},
   "outputs": [],
   "source": [
    "## Writing our metadta table to a CSV file\n",
    "\n",
    "import csv\n",
    "\n",
    "header = [\"Author\", \"Title\", \"Filename\"]\n",
    "\n",
    "with open('ubu_unpub_metadata.csv', 'w') as file_out:\n",
    "    csv_writer = csv.writer(file_out)\n",
    "    csv_writer.writerow(header)\n",
    "    csv_writer.writerows(metadata_lol)\n",
    "\n",
    "# Open your newly created CSV in LibreOffice Calc or another spreadsheet \n",
    "# program and check whether you need to make any corrections."
   ]
  },
  {
   "cell_type": "code",
   "execution_count": null,
   "metadata": {},
   "outputs": [],
   "source": []
  }
 ],
 "metadata": {
  "kernelspec": {
   "display_name": "Python 3",
   "language": "python",
   "name": "python3"
  },
  "language_info": {
   "codemirror_mode": {
    "name": "ipython",
    "version": 3
   },
   "file_extension": ".py",
   "mimetype": "text/x-python",
   "name": "python",
   "nbconvert_exporter": "python",
   "pygments_lexer": "ipython3",
   "version": "3.5.2"
  }
 },
 "nbformat": 4,
 "nbformat_minor": 2
}
