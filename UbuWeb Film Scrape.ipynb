{
 "cells": [
  {
   "cell_type": "markdown",
   "metadata": {},
   "source": [
    "# UbuWeb Film Scrape"
   ]
  },
  {
   "cell_type": "markdown",
   "metadata": {},
   "source": [
    "## *Breaking it Down*"
   ]
  },
  {
   "cell_type": "code",
   "execution_count": null,
   "metadata": {},
   "outputs": [],
   "source": [
    "## First, let's create a list of URLs for individual films on UbuWeb\n",
    "\n",
    "from bs4 import BeautifulSoup\n",
    "from urllib.request import urlopen\n",
    "\n",
    "item_url = 'http://www.ubu.com/film/'\n",
    "\n",
    "page_html = urlopen(item_url).read().decode('utf8')\n",
    "\n",
    "soup = BeautifulSoup(page_html, 'lxml')"
   ]
  },
  {
   "cell_type": "code",
   "execution_count": null,
   "metadata": {},
   "outputs": [],
   "source": [
    "## Creating a list of all links on the page\n",
    "\n",
    "all_links = soup.find_all('a')\n",
    "\n",
    "all_links"
   ]
  },
  {
   "cell_type": "code",
   "execution_count": null,
   "metadata": {},
   "outputs": [],
   "source": [
    "## Using a list comprehension to extract the URL from each link\n",
    "\n",
    "all_urls = [item['href'] for item in all_links]\n",
    "\n",
    "all_urls"
   ]
  },
  {
   "cell_type": "code",
   "execution_count": null,
   "metadata": {},
   "outputs": [],
   "source": [
    "## Converting relative links to absolute links\n",
    "\n",
    "cleaned_urls = []\n",
    "\n",
    "for url in all_urls:\n",
    "    if 'http' not in url:\n",
    "        url = url.replace('./', '')\n",
    "        url = 'http://ubu.com/film/' + url\n",
    "    cleaned_urls.append(url)\n",
    "        \n",
    "cleaned_urls"
   ]
  },
  {
   "cell_type": "code",
   "execution_count": null,
   "metadata": {},
   "outputs": [],
   "source": [
    "## Filtering out links to 'http://www.ubu.com'\n",
    "\n",
    "creator_urls = [item for item in cleaned_urls if item!='http://www.ubu.com']\n",
    "\n",
    "creator_urls"
   ]
  },
  {
   "cell_type": "code",
   "execution_count": null,
   "metadata": {},
   "outputs": [],
   "source": [
    "## Removing duplicates\n",
    "\n",
    "creator_urls = list(set(creator_urls))\n",
    "\n",
    "len(creator_urls)"
   ]
  },
  {
   "cell_type": "markdown",
   "metadata": {},
   "source": [
    "## *Parsing a creator page*"
   ]
  },
  {
   "cell_type": "code",
   "execution_count": null,
   "metadata": {},
   "outputs": [],
   "source": [
    "## Now let's figure out how to parse the page of an individual filmmaker\n",
    "\n",
    "# Choosing an artist url at random:\n",
    "\n",
    "import random\n",
    "\n",
    "creator_url = random.choice(creator_urls)\n",
    "\n",
    "creator_url"
   ]
  },
  {
   "cell_type": "code",
   "execution_count": null,
   "metadata": {},
   "outputs": [],
   "source": [
    "## Downloading the page and creating a BeautifulSoup object\n",
    "\n",
    "page_html = urlopen(creator_url).read().decode('utf8')\n",
    "\n",
    "creator_soup = BeautifulSoup(page_html, 'lxml')"
   ]
  },
  {
   "cell_type": "code",
   "execution_count": null,
   "metadata": {},
   "outputs": [],
   "source": [
    "## Extracting the contents of the <title></title> tags\n",
    "\n",
    "page_title = creator_soup.find('title').get_text()\n",
    "\n",
    "page_title"
   ]
  },
  {
   "cell_type": "code",
   "execution_count": null,
   "metadata": {},
   "outputs": [],
   "source": [
    "## Extracting the creator's name from the page title\n",
    "\n",
    "creator = page_title.replace('UbuWeb Film & Video: ', '')\n",
    "\n",
    "creator"
   ]
  },
  {
   "cell_type": "code",
   "execution_count": null,
   "metadata": {},
   "outputs": [],
   "source": [
    "## Creating a list of all links on the page\n",
    "\n",
    "item_links = creator_soup.find_all('a')\n",
    "\n",
    "item_links"
   ]
  },
  {
   "cell_type": "code",
   "execution_count": null,
   "metadata": {},
   "outputs": [],
   "source": [
    "## Let's try that agian, filtering out the irrelevant links\n",
    "# (Note that all links to individual works on UbuWeb Film appear to be relative links.)\n",
    "\n",
    "item_urls = ['http://www.ubu.com/film/' + item['href'] for item in item_links if 'http' not in item['href']]\n",
    "\n",
    "item_urls"
   ]
  },
  {
   "cell_type": "markdown",
   "metadata": {},
   "source": [
    "## *Parsing an item page*"
   ]
  },
  {
   "cell_type": "code",
   "execution_count": null,
   "metadata": {},
   "outputs": [],
   "source": [
    "## Now let's choose a single film's URL at random and figure out how to parse an individual film's page\n",
    "\n",
    "item_url = random.choice(item_urls)\n",
    "\n",
    "item_url"
   ]
  },
  {
   "cell_type": "code",
   "execution_count": null,
   "metadata": {},
   "outputs": [],
   "source": [
    "## Downloading the page and creating a BeautifulSoup object\n",
    "\n",
    "page_html = urlopen(item_url).read().decode('utf8')\n",
    "\n",
    "item_soup = BeautifulSoup(page_html, 'lxml')\n",
    "\n",
    "# (This might return an error from time to time, due to charcater encoding issues. \n",
    "# We'll deal with this issue in the next cell."
   ]
  },
  {
   "cell_type": "code",
   "execution_count": null,
   "metadata": {},
   "outputs": [],
   "source": [
    "## Using try/except blocks to neatly handle text encoding issues\n",
    "\n",
    "try:\n",
    "        page_html = urlopen(item_url).read().decode('utf8')\n",
    "except:\n",
    "        page_html = str(urlopen(item_url).read(), errors='replace')\n",
    "\n",
    "item_soup = BeautifulSoup(page_html, 'lxml')"
   ]
  },
  {
   "cell_type": "code",
   "execution_count": null,
   "metadata": {},
   "outputs": [],
   "source": [
    "## Creating a recipe to locate the film's title, using the contents of the HTML `<title></title>` tags\n",
    "\n",
    "film_title = ':'.join(item_soup.find('title').get_text().split(':')[1:]).split(' - ')[1]\n",
    "\n",
    "film_title"
   ]
  },
  {
   "cell_type": "code",
   "execution_count": null,
   "metadata": {},
   "outputs": [],
   "source": [
    "## Extracting one or more links to videos, as identified by the HTML `<span class=\"worknav\"></span>` tags\n",
    "\n",
    "video_links = item_soup.find_all('a', {\"class\": \"navmovie\"})\n",
    "\n",
    "video_links"
   ]
  },
  {
   "cell_type": "code",
   "execution_count": null,
   "metadata": {},
   "outputs": [],
   "source": [
    "## Creating a list of URLs for video files\n",
    "# (This will usually just be one URL, pointing to an MP4, M4V, or AVI video.)\n",
    "\n",
    "video_file_urls = [item['href'] for item in video_links]\n",
    "\n",
    "video_file_urls"
   ]
  },
  {
   "cell_type": "markdown",
   "metadata": {},
   "source": [
    "## *Running the Metadata Scrape*"
   ]
  },
  {
   "cell_type": "code",
   "execution_count": null,
   "metadata": {},
   "outputs": [],
   "source": [
    "## Now let's create a function that takes the URL for a creator's UbuWeb Film\n",
    "# page and returns a list of lists containing metadata for each title\n",
    "\n",
    "from bs4 import BeautifulSoup\n",
    "from urllib.request import urlopen\n",
    "import csv\n",
    "import time\n",
    "import os\n",
    "\n",
    "def get_creator_metadata(creator_url):\n",
    "    temp_metadata_lol = []\n",
    "    try:\n",
    "        page_html = urlopen(creator_url).read().decode('utf8')\n",
    "    except:\n",
    "        page_html = str(urlopen(creator_url).read(), errors='replace')\n",
    "    creator_soup = BeautifulSoup(page_html, 'lxml')\n",
    "    page_title = creator_soup.find('title').get_text()\n",
    "    creator = page_title.replace('UbuWeb Film & Video: ', '')\n",
    "    item_links = creator_soup.find_all('a')\n",
    "    item_urls = ['http://www.ubu.com/film/' + item['href'] for item in item_links if 'http' not in item['href']]\n",
    "    for item_url in item_urls:\n",
    "        try:\n",
    "            page_html = urlopen(item_url).read().decode('utf8')\n",
    "        except:\n",
    "            page_html = str(urlopen(creator_url).read(), errors='replace')\n",
    "        item_soup = BeautifulSoup(page_html, 'lxml')\n",
    "        try:\n",
    "            film_title = ':'.join(item_soup.find('title').get_text().split(':')[1:]).split(' - ')[1]\n",
    "        except:\n",
    "            film_title = item_soup.find('title').get_text()\n",
    "        video_links = item_soup.find_all('a', {\"class\": \"navmovie\"})\n",
    "        video_file_urls = [item['href'] for item in video_links]\n",
    "        row = [creator, film_title, '|'.join(video_file_urls), item_url]  ## If a page links to multiple video files, we'll separate them with the pipe character.\n",
    "        temp_metadata_lol.append(row)\n",
    "        time.sleep(0.1)\n",
    "    return temp_metadata_lol"
   ]
  },
  {
   "cell_type": "code",
   "execution_count": null,
   "metadata": {},
   "outputs": [],
   "source": [
    "## Grabbing film metadata for a randomly chosen creator URL\n",
    "\n",
    "example_creator_url = random.choice(creator_urls)\n",
    "\n",
    "get_creator_metadata(example_creator_url)"
   ]
  },
  {
   "cell_type": "code",
   "execution_count": null,
   "metadata": {},
   "outputs": [],
   "source": [
    "## Running the batch metadata scrape and writing to a CSV as we go\n",
    "\n",
    "try: os.mkdir('/sharedfolder/ubu_film/')\n",
    "except: pass\n",
    "\n",
    "os.chdir('/sharedfolder/ubu_film/')\n",
    "\n",
    "master_film_metadata_lol = []\n",
    "\n",
    "header = [\"Creator\", \"Title\", \"Video File URL(s)\", \"Item Page URL\"]\n",
    "\n",
    "for url in creator_urls:\n",
    "    try:\n",
    "        for row in get_creator_metadata(url):\n",
    "            master_film_metadata_lol.append(row)\n",
    "        with open('ubu_film_metadata.csv', 'w') as file_out:           ## Writing a new CSV file every time \n",
    "            csv_writer = csv.writer(file_out)                          # we add a new batch of rows to our table.\n",
    "            csv_writer.writerow(header)                                # (This makes it possible to check our  \n",
    "            csv_writer.writerows(master_film_metadata_lol)                 # progress and nip problems in the bud.)\n",
    "        print('DONE: ' + url)\n",
    "    except Exception as e:\n",
    "        error_row = ['PARSE ERROR: ' + url ,'', '', '']\n",
    "        master_film_metadata_lol.append(error_row)\n",
    "        print('** ERROR: ' + url + ' **')\n",
    "        print(e)\n",
    "    time.sleep(0.3)"
   ]
  },
  {
   "cell_type": "code",
   "execution_count": null,
   "metadata": {},
   "outputs": [],
   "source": [
    "## Looking at 5 randomly selected rows in our master film metadata table\n",
    "\n",
    "random.sample(master_film_metadata_lol, 5)"
   ]
  },
  {
   "cell_type": "markdown",
   "metadata": {},
   "source": [
    "## *Downloading videos*"
   ]
  },
  {
   "cell_type": "code",
   "execution_count": null,
   "metadata": {},
   "outputs": [],
   "source": [
    "## Loading video metadata table from the CSV file we just created\n",
    "\n",
    "import os\n",
    "import csv\n",
    "\n",
    "try: os.mkdir('/sharedfolder/ubu_film/')\n",
    "except: pass\n",
    "\n",
    "os.chdir('/sharedfolder/ubu_film/')\n",
    "\n",
    "csv_path = 'ubu_film_metadata.csv'\n",
    "\n",
    "video_table = []\n",
    "\n",
    "with open(csv_path) as file_in:\n",
    "    csv_reader = csv.reader(file_in)\n",
    "    for row in csv_reader:\n",
    "        video_table.append(row)\n"
   ]
  },
  {
   "cell_type": "code",
   "execution_count": null,
   "metadata": {},
   "outputs": [],
   "source": [
    "## Checking the table length and viewing a random row\n",
    "\n",
    "import random\n",
    "\n",
    "print(len(video_table))\n",
    "\n",
    "print(random.choice(video_table))"
   ]
  },
  {
   "cell_type": "code",
   "execution_count": null,
   "metadata": {},
   "outputs": [],
   "source": [
    "## Moving the header row to a separate variable\n",
    "\n",
    "header_row = video_table[0]\n",
    "\n",
    "video_table = video_table[1:]\n",
    "\n",
    "header_row"
   ]
  },
  {
   "cell_type": "code",
   "execution_count": null,
   "metadata": {},
   "outputs": [],
   "source": [
    "## Converting the 'Video File URL(s)' column in our table to a list,\n",
    "# then removing duplicates and checking its length\n",
    "\n",
    "video_url_list = [row[2] for row in video_table]\n",
    "\n",
    "video_url_list = list(set(video_url_list))\n",
    "\n",
    "len(video_url_list)"
   ]
  },
  {
   "cell_type": "code",
   "execution_count": null,
   "metadata": {},
   "outputs": [],
   "source": [
    "## Viewing 5 randomly chosen video URLs\n",
    "\n",
    "from pprint import pprint\n",
    "\n",
    "pprint(random.sample(video_url_list, 3))"
   ]
  },
  {
   "cell_type": "code",
   "execution_count": null,
   "metadata": {},
   "outputs": [],
   "source": [
    "## Shuffling the order of our URL list\n",
    "\n",
    "random.shuffle(video_url_list)\n",
    "\n",
    "video_url_list = [item for item in video_url_list if '.iphone.' not in item]\n",
    "\n",
    "len(video_url_list)"
   ]
  },
  {
   "cell_type": "code",
   "execution_count": null,
   "metadata": {},
   "outputs": [],
   "source": [
    "## Creating a new directory for the files\n",
    "\n",
    "import os\n",
    "\n",
    "try: os.mkdir('/sharedfolder/ubu_film/')\n",
    "except: pass\n",
    "\n",
    "try: os.mkdir('/sharedfolder/ubu_film/ubu_video_files')\n",
    "except: pass\n",
    "\n",
    "os.chdir('/sharedfolder/ubu_film/ubu_video_files')"
   ]
  },
  {
   "cell_type": "code",
   "execution_count": null,
   "metadata": {},
   "outputs": [],
   "source": [
    "## Downloading the first 10 videos in our shuffled list\n",
    "\n",
    "import subprocess\n",
    "import time\n",
    "\n",
    "for url in video_url_list[:10]:\n",
    "    try:\n",
    "        subprocess.call(['wget', url])\n",
    "        print('DONE: ' + url)\n",
    "    except Exception as e:\n",
    "        print('** ERROR: ' + url+ \" **\")\n",
    "        print(3)\n",
    "    time.sleep(0.4)\n",
    "\n",
    "# This will probably run fairly slowly."
   ]
  },
  {
   "cell_type": "code",
   "execution_count": null,
   "metadata": {},
   "outputs": [],
   "source": [
    "## Downloading the next 90 videos\n",
    "\n",
    "import subprocess\n",
    "import time\n",
    "\n",
    "for url in video_url_list[10:100]:\n",
    "    try:\n",
    "        subprocess.call(['wget', url])\n",
    "        print('DONE: ' + url)\n",
    "    except Exception as e:\n",
    "        print('** ERROR: ' + url+ \" **\")\n",
    "        print(3)\n",
    "    time.sleep(0.4)"
   ]
  },
  {
   "cell_type": "code",
   "execution_count": null,
   "metadata": {},
   "outputs": [],
   "source": []
  }
 ],
 "metadata": {
  "kernelspec": {
   "display_name": "Python 3",
   "language": "python",
   "name": "python3"
  },
  "language_info": {
   "codemirror_mode": {
    "name": "ipython",
    "version": 3
   },
   "file_extension": ".py",
   "mimetype": "text/x-python",
   "name": "python",
   "nbconvert_exporter": "python",
   "pygments_lexer": "ipython3",
   "version": "3.5.2"
  }
 },
 "nbformat": 4,
 "nbformat_minor": 2
}
