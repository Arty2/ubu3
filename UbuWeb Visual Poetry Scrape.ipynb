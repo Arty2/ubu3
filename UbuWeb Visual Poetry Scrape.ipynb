{
 "cells": [
  {
   "cell_type": "code",
   "execution_count": null,
   "metadata": {},
   "outputs": [],
   "source": [
    "import os\n",
    "\n",
    "try: os.mkdir('/sharedfolder/')\n",
    "except: pass\n",
    "\n",
    "try: os.mkdir('/sharedfolder/ubu_visual_poetry/')\n",
    "except: pass\n",
    "\n",
    "os.chdir('/sharedfolder/ubu_visual_poetry/')"
   ]
  },
  {
   "cell_type": "code",
   "execution_count": null,
   "metadata": {},
   "outputs": [],
   "source": [
    "## Recursively downloading http://ubu.com/vp/ in its entirety\n",
    "\n",
    "!wget --recursive --convert-link --no-parent --page-requisites -erobots=off --tries=\"inf\" --wait=0.3 --random-wait --user-agent=\"Mozilla/5.0 (Macintosh; Intel Mac OS X 10.8; rv:21.0) Gecko/20100101 Firefox/21.0\" http://www.ubu.com/vp/"
   ]
  },
  {
   "cell_type": "code",
   "execution_count": null,
   "metadata": {},
   "outputs": [],
   "source": [
    "## \n",
    "\n",
    "os.chdir('www.ubu.com/vp/')\n",
    "\n",
    "html_filenames = os.listdir('./')\n",
    "\n",
    "html_filenames"
   ]
  },
  {
   "cell_type": "code",
   "execution_count": null,
   "metadata": {},
   "outputs": [],
   "source": [
    "##!pip3 install bs4\n",
    "##!pip3 install lxml"
   ]
  },
  {
   "cell_type": "code",
   "execution_count": null,
   "metadata": {},
   "outputs": [],
   "source": [
    "\n",
    "from bs4 import BeautifulSoup\n",
    "\n",
    "all_links = []\n",
    "\n",
    "for filename in html_filenames:\n",
    "    try:\n",
    "        page_html = open(filename).read()\n",
    "        soup = BeautifulSoup(page_html, 'lxml')\n",
    "        links = soup.find_all('a')\n",
    "        all_links += links\n",
    "    except Exception as e:\n",
    "        print('** ERROR: ' + filename + ' **')\n",
    "        print(e)\n",
    "\n",
    "len(all_links)"
   ]
  },
  {
   "cell_type": "code",
   "execution_count": null,
   "metadata": {},
   "outputs": [],
   "source": [
    "all_links"
   ]
  },
  {
   "cell_type": "code",
   "execution_count": null,
   "metadata": {},
   "outputs": [],
   "source": [
    "url_blacklist = [\"http://ubu.com/vp\", \"http://www.ubu.com/\", \"index.html\", \\\n",
    "                 \"http://www.ubu.com\", \"http://www.writing.upenn.edu/pennsound/\", \\\n",
    "                 \"http://centro.edu.mx/\", \"http://epc.buffalo.edu\", \"http://www.wfmu.org\"]\n",
    "\n",
    "all_urls = []\n",
    "\n",
    "for link in all_links:\n",
    "    try:\n",
    "        if link['href'] not in url_blacklist:\n",
    "            all_urls.append(link['href'].strip())  ## Using strip() because several URLs mistakenly begin with spaces\n",
    "    except:\n",
    "        print(\"ERROR: \" + str(link))\n",
    "        \n",
    "len(all_urls)"
   ]
  },
  {
   "cell_type": "code",
   "execution_count": null,
   "metadata": {},
   "outputs": [],
   "source": [
    "import random\n",
    "\n",
    "random.sample(all_urls, 5)"
   ]
  },
  {
   "cell_type": "code",
   "execution_count": null,
   "metadata": {},
   "outputs": [],
   "source": [
    "all_urls_cleaned = []\n",
    "\n",
    "for url in all_urls:\n",
    "    if 'http' not in url:\n",
    "        url = 'http://www.ubu.com/vp/' + url\n",
    "    all_urls_cleaned.append(url)\n",
    "\n",
    "all_urls_cleaned"
   ]
  },
  {
   "cell_type": "code",
   "execution_count": null,
   "metadata": {},
   "outputs": [],
   "source": [
    "import os\n",
    "\n",
    "try: os.mkdir('/sharedfolder/ubu_visual_poetry/PDFs/')\n",
    "except: pass\n",
    "\n",
    "os.chdir('/sharedfolder/ubu_visual_poetry/PDFs/')"
   ]
  },
  {
   "cell_type": "code",
   "execution_count": null,
   "metadata": {},
   "outputs": [],
   "source": [
    "import subprocess\n",
    "import time\n",
    "\n",
    "for url in all_urls_cleaned:\n",
    "    try:\n",
    "        subprocess.call(['wget', url])\n",
    "        print('DONE: ' + url)\n",
    "    except Exception as e:\n",
    "        print('**ERROR: ' + url + ' **')\n",
    "        print(e)\n",
    "    time.sleep(0.4)"
   ]
  },
  {
   "cell_type": "code",
   "execution_count": null,
   "metadata": {},
   "outputs": [],
   "source": []
  }
 ],
 "metadata": {
  "kernelspec": {
   "display_name": "Python 3",
   "language": "python",
   "name": "python3"
  },
  "language_info": {
   "codemirror_mode": {
    "name": "ipython",
    "version": 3
   },
   "file_extension": ".py",
   "mimetype": "text/x-python",
   "name": "python",
   "nbconvert_exporter": "python",
   "pygments_lexer": "ipython3",
   "version": "3.5.2"
  }
 },
 "nbformat": 4,
 "nbformat_minor": 2
}
